{
 "cells": [
  {
   "cell_type": "markdown",
   "metadata": {},
   "source": [
    "4 Principles of OOP\n",
    "*  Inheritance\n",
    "* Polymorphism\n",
    "*  Encapsulation\n",
    "*  Abstraction"
   ]
  },
  {
   "cell_type": "markdown",
   "metadata": {},
   "source": [
    "Classes are used to represent more complex data structures and contain functions that describe their behavior.\n"
   ]
  },
  {
   "cell_type": "markdown",
   "metadata": {},
   "source": [
    "Attributes in the def __init__ method are called instance attributes "
   ]
  },
  {
   "cell_type": "markdown",
   "metadata": {},
   "source": [
    "* Class attributes are available to both Class instances and Classes\n",
    "* Instance attributes are only available to instances"
   ]
  },
  {
   "cell_type": "markdown",
   "metadata": {},
   "source": [
    "* Class Methods don't contain self as the first argument and can only be used on a Class.\n",
    "* the instance attributes cannot be accessed.\n",
    "* adding a @staticmethod allows you to use on an instance but attributes cannot be accessed. "
   ]
  },
  {
   "cell_type": "markdown",
   "metadata": {},
   "source": [
    "* staticmethods are bound to a class rather than its objects. \n",
    "* staticmethods parameter is always the class itself. "
   ]
  },
  {
   "cell_type": "markdown",
   "metadata": {},
   "source": []
  },
  {
   "cell_type": "markdown",
   "metadata": {},
   "source": []
  },
  {
   "cell_type": "code",
   "execution_count": null,
   "metadata": {},
   "outputs": [],
   "source": []
  }
 ],
 "metadata": {
  "language_info": {
   "name": "python"
  },
  "orig_nbformat": 4
 },
 "nbformat": 4,
 "nbformat_minor": 2
}
