{
 "cells": [
  {
   "cell_type": "markdown",
   "metadata": {},
   "source": [
    "4 Principles of OOP\n",
    "*  Inheritance\n",
    "* Polymorphism\n",
    "*  Encapsulation\n",
    "*  Abstraction"
   ]
  },
  {
   "cell_type": "markdown",
   "metadata": {},
   "source": [
    "Classes are used to represent more complex data structures and contain functions that describe their behavior.\n"
   ]
  },
  {
   "cell_type": "markdown",
   "metadata": {},
   "source": [
    "Attributes in the def __init__ method are called instance attributes "
   ]
  },
  {
   "cell_type": "markdown",
   "metadata": {},
   "source": [
    "* Class attributes are available to both Class instances and Classes\n",
    "* Instance attributes are only available to instances"
   ]
  },
  {
   "cell_type": "markdown",
   "metadata": {},
   "source": [
    "* Class Methods don't contain self as the first argument and can only be used on a Class.\n",
    "* the instance attributes cannot be accessed.\n",
    "* adding a @staticmethod allows you to use on an instance but attributes cannot be accessed. "
   ]
  },
  {
   "cell_type": "markdown",
   "metadata": {},
   "source": [
    "* staticmethods are bound to a class rather than its objects. \n",
    "* staticmethods parameter is always the class itself. "
   ]
  },
  {
   "cell_type": "markdown",
   "metadata": {},
   "source": [
    "# Polymorphism (many shapes)"
   ]
  },
  {
   "cell_type": "markdown",
   "metadata": {},
   "source": [
    "* closely related with inheritance \n",
    "* gives us a way to write code that works with the Parent class as well as child class\n",
    "* gives us a way to use a child class exactly like its parent but still, each child class keeps it's own methods as they are.\n"
   ]
  },
  {
   "cell_type": "markdown",
   "metadata": {},
   "source": [
    "# Encapsulation"
   ]
  },
  {
   "cell_type": "markdown",
   "metadata": {},
   "source": [
    "* The mechanism of hiding of data implementation\n",
    "* instance variables are kept private \n",
    "* there's only one accessor method from the outside for which we can change these instance variables \n",
    "* getter and setter methods \n",
    "* instance methods can also be kept private "
   ]
  },
  {
   "cell_type": "markdown",
   "metadata": {},
   "source": [
    "* Private Attribute \n",
    "* self.__ssn = None creates a complety unaccesable attribute; will return an error\n",
    "\n",
    "\n",
    "* Protected Attributes\n",
    "* self._ssn = Is the conventional way of seeing private attributes; can still be accessed with an instance call."
   ]
  },
  {
   "cell_type": "markdown",
   "metadata": {},
   "source": []
  }
 ],
 "metadata": {
  "language_info": {
   "name": "python"
  },
  "orig_nbformat": 4
 },
 "nbformat": 4,
 "nbformat_minor": 2
}
